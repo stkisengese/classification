{
 "cells": [
  {
   "cell_type": "code",
   "execution_count": 1,
   "id": "ba02a5f4-4ef6-4c2e-84a6-fd15fa900057",
   "metadata": {},
   "outputs": [],
   "source": [
    "import pandas as pd\n",
    "import numpy as np\n",
    "from sklearn.datasets import load_iris\n",
    "from sklearn.linear_model import LogisticRegression\n",
    "from sklearn.model_selection import train_test_split\n",
    "from sklearn.metrics import accuracy_score"
   ]
  },
  {
   "cell_type": "code",
   "execution_count": 2,
   "id": "6ba08fb6-d74b-4097-9566-b60311f6b042",
   "metadata": {},
   "outputs": [],
   "source": [
    "# ------------------------\n",
    "# Load dataset\n",
    "# ------------------------\n",
    "iris = load_iris()\n",
    "X = pd.DataFrame(data=iris['data'], columns=iris.feature_names)\n",
    "y = pd.DataFrame(data=iris['target'], columns=['target'])\n",
    "\n",
    "# Split into train/test\n",
    "X_train, X_test, y_train, y_test = train_test_split(\n",
    "    X, y, test_size=0.2, shuffle=True, random_state=43\n",
    ")\n"
   ]
  },
  {
   "cell_type": "code",
   "execution_count": 3,
   "id": "ec0a0242-aca7-4b6a-9d29-b61e03977aff",
   "metadata": {},
   "outputs": [],
   "source": [
    "# ------------------------\n",
    "# Train three classifiers (One-vs-Rest)\n",
    "# ------------------------\n",
    "def train(X_train, y_train):\n",
    "    # Classifier for class 0 vs (1,2)\n",
    "    y0 = (y_train['target'] == 0).astype(int)  \n",
    "    clf0 = LogisticRegression(max_iter=1000)\n",
    "    clf0.fit(X_train, y0)\n",
    "\n",
    "    # Classifier for class 1 vs (0,2)\n",
    "    y1 = (y_train['target'] == 1).astype(int)\n",
    "    clf1 = LogisticRegression(max_iter=1000)\n",
    "    clf1.fit(X_train, y1)\n",
    "\n",
    "    # Classifier for class 2 vs (0,1)\n",
    "    y2 = (y_train['target'] == 2).astype(int)\n",
    "    clf2 = LogisticRegression(max_iter=1000)\n",
    "    clf2.fit(X_train, y2)\n",
    "\n",
    "    return clf0, clf1, clf2\n",
    "\n",
    "clf0, clf1, clf2 = train(X_train, y_train)\n"
   ]
  },
  {
   "cell_type": "code",
   "execution_count": 7,
   "id": "2fdbee58-6d4c-4811-bdcc-7e788560c17c",
   "metadata": {},
   "outputs": [],
   "source": [
    "# ------------------------\n",
    "# Predict function (OvR)\n",
    "# ------------------------\n",
    "def predict_one_vs_all(X, clf0, clf1, clf2):\n",
    "    \"\"\"\n",
    "    Predict classes using one-vs-rest approach\n",
    "    \n",
    "    Parameters:\n",
    "    X: features to predict\n",
    "    clf0, clf1, clf2: trained one-vs-rest classifiers\n",
    "    \n",
    "    Returns:\n",
    "    predicted_classes: array of predicted class labels\n",
    "    \"\"\"\n",
    "    # Get probability for \"being the class\" (class 1 of each classifier)\n",
    "    p0 = clf0.predict_proba(X)[:, 1]  # probability of being class 0\n",
    "    p1 = clf1.predict_proba(X)[:, 1]  # probability of being class 1\n",
    "    p2 = clf2.predict_proba(X)[:, 1]  # probability of being class 2\n",
    "\n",
    "    # Stack probabilities column-wise\n",
    "    probs = np.vstack([p0, p1, p2]).T  \n",
    "\n",
    "    # Choose the class with the highest probability\n",
    "    classes = np.argmax(probs, axis=1)\n",
    "    return classes\n",
    "\n",
    "# Predictions using manual OvR\n",
    "y_pred_manual = predict_one_vs_all(X_test, clf0, clf1, clf2)"
   ]
  },
  {
   "cell_type": "code",
   "execution_count": 11,
   "id": "1980ff4c-4e42-4a75-bee3-a30c8f94ecd9",
   "metadata": {},
   "outputs": [
    {
     "name": "stdout",
     "output_type": "stream",
     "text": [
      "Manual OvR accuracy: 1.0\n",
      "Sklearn OvR accuracy: 1.0\n",
      "\n",
      "First 10 manual OvR predictions: [0 0 2 1 2 0 2 1 1 1]\n",
      "First 10 sklearn OvR predictions: [0 0 2 1 2 0 2 1 1 1]\n",
      "True values: [0 0 2 1 2 0 2 1 1 1]\n"
     ]
    }
   ],
   "source": [
    "# ------------------------\n",
    "# Compare with sklearn LogisticRegression (built-in OvR)\n",
    "# ------------------------\n",
    "clf_sklearn = LogisticRegression(max_iter=1000)\n",
    "clf_sklearn.fit(X_train, y_train['target'])\n",
    "y_pred_sklearn = clf_sklearn.predict(X_test)\n",
    "\n",
    "print(\"Manual OvR accuracy:\", accuracy_score(y_test, y_pred_manual))\n",
    "print(\"Sklearn OvR accuracy:\", accuracy_score(y_test, y_pred_sklearn))\n",
    "\n",
    "print(\"\\nFirst 10 manual OvR predictions:\", y_pred_manual[:10])\n",
    "print(\"First 10 sklearn OvR predictions:\", y_pred_sklearn[:10])\n",
    "print(\"True values:\", y_test['target'].values[:10])\n",
    "\n"
   ]
  },
  {
   "cell_type": "code",
   "execution_count": null,
   "id": "a0f95889-fb6c-48b1-ba96-25e8b2c19a53",
   "metadata": {},
   "outputs": [],
   "source": []
  }
 ],
 "metadata": {
  "kernelspec": {
   "display_name": "Python 3 (ipykernel)",
   "language": "python",
   "name": "python3"
  },
  "language_info": {
   "codemirror_mode": {
    "name": "ipython",
    "version": 3
   },
   "file_extension": ".py",
   "mimetype": "text/x-python",
   "name": "python",
   "nbconvert_exporter": "python",
   "pygments_lexer": "ipython3",
   "version": "3.12.11"
  }
 },
 "nbformat": 4,
 "nbformat_minor": 5
}
