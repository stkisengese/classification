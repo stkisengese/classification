{
 "cells": [
  {
   "cell_type": "code",
   "execution_count": 1,
   "id": "ba02a5f4-4ef6-4c2e-84a6-fd15fa900057",
   "metadata": {},
   "outputs": [],
   "source": [
    "import pandas as pd\n",
    "import numpy as np\n",
    "from sklearn.datasets import load_iris\n",
    "from sklearn.linear_model import LogisticRegression\n",
    "from sklearn.model_selection import train_test_split\n",
    "from sklearn.metrics import accuracy_score"
   ]
  },
  {
   "cell_type": "code",
   "execution_count": 2,
   "id": "6ba08fb6-d74b-4097-9566-b60311f6b042",
   "metadata": {},
   "outputs": [],
   "source": [
    "# ------------------------\n",
    "# Load dataset\n",
    "# ------------------------\n",
    "iris = load_iris()\n",
    "X = pd.DataFrame(data=iris['data'], columns=iris.feature_names)\n",
    "y = pd.DataFrame(data=iris['target'], columns=['target'])\n",
    "\n",
    "# Split into train/test\n",
    "X_train, X_test, y_train, y_test = train_test_split(\n",
    "    X, y, test_size=0.2, shuffle=True, random_state=43\n",
    ")\n"
   ]
  },
  {
   "cell_type": "code",
   "execution_count": null,
   "id": "ec0a0242-aca7-4b6a-9d29-b61e03977aff",
   "metadata": {},
   "outputs": [],
   "source": []
  }
 ],
 "metadata": {
  "kernelspec": {
   "display_name": "Python 3 (ipykernel)",
   "language": "python",
   "name": "python3"
  },
  "language_info": {
   "codemirror_mode": {
    "name": "ipython",
    "version": 3
   },
   "file_extension": ".py",
   "mimetype": "text/x-python",
   "name": "python",
   "nbconvert_exporter": "python",
   "pygments_lexer": "ipython3",
   "version": "3.12.11"
  }
 },
 "nbformat": 4,
 "nbformat_minor": 5
}
