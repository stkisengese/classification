{
 "cells": [
  {
   "cell_type": "code",
   "execution_count": 1,
   "id": "de676cf4-f4f4-4e1d-bf02-dfe009962714",
   "metadata": {},
   "outputs": [],
   "source": [
    "# Exercise 1: Logistic regression with Scikit-learn"
   ]
  },
  {
   "cell_type": "code",
   "execution_count": 2,
   "id": "6e0fee29-6f76-4a11-9e5f-7bb6d120b108",
   "metadata": {},
   "outputs": [],
   "source": [
    "from sklearn.linear_model import LogisticRegression"
   ]
  },
  {
   "cell_type": "code",
   "execution_count": 4,
   "id": "09e32586-9ac0-42d7-97af-a9e6f09f22d7",
   "metadata": {},
   "outputs": [
    {
     "name": "stdout",
     "output_type": "stream",
     "text": [
      "Predicted class for 0.5: [0]\n"
     ]
    }
   ],
   "source": [
    "# Data\n",
    "X = [[0],[0.1],[0.2],[1],[1.1],[1.2],[1.3]]\n",
    "y = [0,0,0,1,1,1,0]\n",
    "\n",
    "# Train logistic regression model\n",
    "model = LogisticRegression()\n",
    "model.fit(X, y)\n",
    "\n",
    "# Predict class for x_pred = [[0.5]]\n",
    "x_pred = [[0.5]]\n",
    "y_pred = model.predict(x_pred)\n",
    "print(\"Predicted class for 0.5:\", y_pred)"
   ]
  },
  {
   "cell_type": "code",
   "execution_count": null,
   "id": "807a0122-25e8-4611-8610-b91ff7c5d7f8",
   "metadata": {},
   "outputs": [],
   "source": []
  }
 ],
 "metadata": {
  "kernelspec": {
   "display_name": "Python 3 (ipykernel)",
   "language": "python",
   "name": "python3"
  },
  "language_info": {
   "codemirror_mode": {
    "name": "ipython",
    "version": 3
   },
   "file_extension": ".py",
   "mimetype": "text/x-python",
   "name": "python",
   "nbconvert_exporter": "python",
   "pygments_lexer": "ipython3",
   "version": "3.12.11"
  }
 },
 "nbformat": 4,
 "nbformat_minor": 5
}
