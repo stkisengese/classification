{
 "cells": [
  {
   "cell_type": "code",
   "execution_count": 1,
   "id": "8bafc633-23c8-4ccc-bdfc-b4f0ae1271ba",
   "metadata": {},
   "outputs": [],
   "source": [
    "import pandas as pd\n",
    "import numpy as np\n",
    "from sklearn.model_selection import train_test_split\n",
    "from sklearn.linear_model import LogisticRegression\n",
    "from sklearn.metrics import confusion_matrix"
   ]
  },
  {
   "cell_type": "code",
   "execution_count": 5,
   "id": "49dce75c-a526-49ba-b6cf-1299d066176c",
   "metadata": {},
   "outputs": [
    {
     "name": "stdout",
     "output_type": "stream",
     "text": [
      "Class distribution:\n",
      " Class\n",
      "0    0.655222\n",
      "1    0.344778\n",
      "Name: proportion, dtype: float64\n"
     ]
    },
    {
     "name": "stderr",
     "output_type": "stream",
     "text": [
      "/tmp/ipykernel_263479/557509608.py:14: FutureWarning: A value is trying to be set on a copy of a DataFrame or Series through chained assignment using an inplace method.\n",
      "The behavior will change in pandas 3.0. This inplace method will never work because the intermediate object on which we are setting values always behaves as a copy.\n",
      "\n",
      "For example, when doing 'df[col].method(value, inplace=True)', try using 'df.method({col: value}, inplace=True)' or df[col] = df[col].method(value) instead, to perform the operation inplace on the original object.\n",
      "\n",
      "\n",
      "  data[\"Bare_Nuclei\"].fillna(data[\"Bare_Nuclei\"].median(), inplace=True)\n"
     ]
    }
   ],
   "source": [
    "# Column names from breast-cancer-wisconsin.names\n",
    "col_names = [\n",
    "    \"Sample_code_number\", \"Clump_Thickness\", \"Uniformity_Cell_Size\",\n",
    "    \"Uniformity_Cell_Shape\", \"Marginal_Adhesion\", \"Single_Epi_Cell_Size\",\n",
    "    \"Bare_Nuclei\", \"Bland_Chromatin\", \"Normal_Nucleoli\", \"Mitoses\", \"Class\"\n",
    "]\n",
    "\n",
    "# Load dataset\n",
    "data = pd.read_csv(\"wisconsin.data\", names=col_names)\n",
    "\n",
    "# Replace missing values (\"?\") with NaN then fill with median\n",
    "data.replace(\"?\", np.nan, inplace=True)\n",
    "data[\"Bare_Nuclei\"] = pd.to_numeric(data[\"Bare_Nuclei\"])\n",
    "data[\"Bare_Nuclei\"].fillna(data[\"Bare_Nuclei\"].median(), inplace=True)\n",
    "\n",
    "# Drop the ID column\n",
    "data.drop(\"Sample_code_number\", axis=1, inplace=True)\n",
    "\n",
    "# Map classes: Benign=2 → 0, Malignant=4 → 1\n",
    "data[\"Class\"] = data[\"Class\"].map({2:0, 4:1})\n",
    "\n",
    "print(\"Class distribution:\\n\", data[\"Class\"].value_counts(normalize=True))"
   ]
  },
  {
   "cell_type": "code",
   "execution_count": null,
   "id": "df58b9e8-ecc0-49b0-9ade-cee3573721b1",
   "metadata": {},
   "outputs": [],
   "source": []
  },
  {
   "cell_type": "code",
   "execution_count": null,
   "id": "b62cac78-1d55-416e-8bc6-cd9e0127b7bf",
   "metadata": {},
   "outputs": [],
   "source": []
  }
 ],
 "metadata": {
  "kernelspec": {
   "display_name": "Python 3 (ipykernel)",
   "language": "python",
   "name": "python3"
  },
  "language_info": {
   "codemirror_mode": {
    "name": "ipython",
    "version": 3
   },
   "file_extension": ".py",
   "mimetype": "text/x-python",
   "name": "python",
   "nbconvert_exporter": "python",
   "pygments_lexer": "ipython3",
   "version": "3.12.11"
  }
 },
 "nbformat": 4,
 "nbformat_minor": 5
}
