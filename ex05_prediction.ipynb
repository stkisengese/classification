{
 "cells": [
  {
   "cell_type": "code",
   "execution_count": 1,
   "id": "8bafc633-23c8-4ccc-bdfc-b4f0ae1271ba",
   "metadata": {},
   "outputs": [],
   "source": [
    "import pandas as pd\n",
    "import numpy as np\n",
    "from sklearn.model_selection import train_test_split\n",
    "from sklearn.linear_model import LogisticRegression\n",
    "from sklearn.metrics import confusion_matrix"
   ]
  },
  {
   "cell_type": "code",
   "execution_count": 2,
   "id": "49dce75c-a526-49ba-b6cf-1299d066176c",
   "metadata": {},
   "outputs": [
    {
     "name": "stdout",
     "output_type": "stream",
     "text": [
      "Class distribution:\n",
      " Class\n",
      "0    0.655222\n",
      "1    0.344778\n",
      "Name: proportion, dtype: float64\n"
     ]
    }
   ],
   "source": [
    "# Column names from breast-cancer-wisconsin.names\n",
    "col_names = [\n",
    "    \"Sample_code_number\", \"Clump_Thickness\", \"Uniformity_Cell_Size\",\n",
    "    \"Uniformity_Cell_Shape\", \"Marginal_Adhesion\", \"Single_Epi_Cell_Size\",\n",
    "    \"Bare_Nuclei\", \"Bland_Chromatin\", \"Normal_Nucleoli\", \"Mitoses\", \"Class\"\n",
    "]\n",
    "\n",
    "# Load dataset\n",
    "data = pd.read_csv(\"wisconsin.data\", names=col_names)\n",
    "\n",
    "# Replace missing values (\"?\") with NaN then fill with median\n",
    "data.replace(\"?\", np.nan, inplace=True)\n",
    "data[\"Bare_Nuclei\"] = pd.to_numeric(data[\"Bare_Nuclei\"])\n",
    "data[\"Bare_Nuclei\"] = data[\"Bare_Nuclei\"].fillna(data[\"Bare_Nuclei\"].median())\n",
    "\n",
    "# Drop the ID column\n",
    "data.drop(\"Sample_code_number\", axis=1, inplace=True)\n",
    "\n",
    "# Map classes: Benign=2 → 0, Malignant=4 → 1\n",
    "data[\"Class\"] = data[\"Class\"].map({2:0, 4:1})\n",
    "\n",
    "print(\"Class distribution:\\n\", data[\"Class\"].value_counts(normalize=True))"
   ]
  },
  {
   "cell_type": "code",
   "execution_count": 4,
   "id": "df58b9e8-ecc0-49b0-9ade-cee3573721b1",
   "metadata": {},
   "outputs": [
    {
     "name": "stdout",
     "output_type": "stream",
     "text": [
      "Baseline accuracy (always predicting Benign): 0.6552217453505007\n",
      "Proportion of class Benign: 0.6552217453505007\n",
      "If always predict Benign → accuracy: 0.66\n"
     ]
    }
   ],
   "source": [
    "#Baseline accuracy \n",
    "baseline_acc = data[\"Class\"].value_counts(normalize=True).max()\n",
    "print(\"Baseline accuracy (always predicting Benign):\", baseline_acc)\n",
    "\n",
    "# Alternative\n",
    "prop_benign = (data[\"Class\"] == 0).mean()\n",
    "print(\"Proportion of class Benign:\", prop_benign)\n",
    "print(\"If always predict Benign → accuracy:\", round(prop_benign, 2))"
   ]
  },
  {
   "cell_type": "code",
   "execution_count": 5,
   "id": "b62cac78-1d55-416e-8bc6-cd9e0127b7bf",
   "metadata": {},
   "outputs": [],
   "source": [
    "# prepare features and target\n",
    "X = data.drop(\"Class\", axis=1)\n",
    "y = data[\"Class\"]\n",
    "\n",
    "# Train-Test Split with Stratification\n",
    "X_train, X_test, y_train, y_test = train_test_split(\n",
    "    X, y, test_size=0.2, stratify=y, random_state=43\n",
    ")\n"
   ]
  },
  {
   "cell_type": "code",
   "execution_count": 6,
   "id": "8720423b-d001-4ef5-92a2-d1a75ede078a",
   "metadata": {},
   "outputs": [
    {
     "name": "stdout",
     "output_type": "stream",
     "text": [
      "Train accuracy: 0.9660107334525939\n",
      "Test accuracy: 0.9428571428571428\n"
     ]
    }
   ],
   "source": [
    "# Fit logistic regression\n",
    "clf = LogisticRegression(max_iter=1000, solver='liblinear')\n",
    "clf.fit(X_train, y_train)\n",
    "\n",
    "print(\"Train accuracy:\", clf.score(X_train, y_train))\n",
    "print(\"Test accuracy:\", clf.score(X_test, y_test))\n"
   ]
  },
  {
   "cell_type": "code",
   "execution_count": 7,
   "id": "1f7345c3-5824-4562-b364-0761a8f540af",
   "metadata": {},
   "outputs": [
    {
     "name": "stdout",
     "output_type": "stream",
     "text": [
      "Confusion matrix (Train):\n",
      " [[357   9]\n",
      " [ 10 183]]\n",
      "Confusion matrix (Test):\n",
      " [[90  2]\n",
      " [ 6 42]]\n"
     ]
    }
   ],
   "source": [
    "# Confusion matrix\n",
    "# Predictions\n",
    "y_train_pred = clf.predict(X_train)\n",
    "y_test_pred = clf.predict(X_test)\n",
    "\n",
    "# Confusion matrices\n",
    "cm_train = confusion_matrix(y_train, y_train_pred)\n",
    "cm_test = confusion_matrix(y_test, y_test_pred)\n",
    "\n",
    "print(\"Confusion matrix (Train):\\n\", cm_train)\n",
    "print(\"Confusion matrix (Test):\\n\", cm_test)\n"
   ]
  },
  {
   "cell_type": "code",
   "execution_count": null,
   "id": "f9c0d6f5-d14a-42ba-9847-3107bd856a43",
   "metadata": {},
   "outputs": [],
   "source": []
  }
 ],
 "metadata": {
  "kernelspec": {
   "display_name": "Python 3 (ipykernel)",
   "language": "python",
   "name": "python3"
  },
  "language_info": {
   "codemirror_mode": {
    "name": "ipython",
    "version": 3
   },
   "file_extension": ".py",
   "mimetype": "text/x-python",
   "name": "python",
   "nbconvert_exporter": "python",
   "pygments_lexer": "ipython3",
   "version": "3.12.11"
  }
 },
 "nbformat": 4,
 "nbformat_minor": 5
}
