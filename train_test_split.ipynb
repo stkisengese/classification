{
 "cells": [
  {
   "cell_type": "code",
   "execution_count": 1,
   "id": "d8ebcd34-227d-4422-b59a-ffea851f7529",
   "metadata": {},
   "outputs": [],
   "source": [
    "# Exercise 4: Train test split"
   ]
  },
  {
   "cell_type": "code",
   "execution_count": 2,
   "id": "35982e03-d53a-4729-9dee-336233f2bc20",
   "metadata": {},
   "outputs": [],
   "source": [
    "import numpy as np\n",
    "from sklearn.model_selection import train_test_split"
   ]
  },
  {
   "cell_type": "code",
   "execution_count": 9,
   "id": "7f0ed24f-4349-4652-b765-ca1106616c15",
   "metadata": {},
   "outputs": [
    {
     "name": "stdout",
     "output_type": "stream",
     "text": [
      "First dataset:\n",
      "X shape: (10, 2), y: [0. 0. 0. 0. 0. 0. 0. 1. 1. 1.]\n"
     ]
    }
   ],
   "source": [
    "# First dataset\n",
    "X1 = np.arange(1, 21).reshape(10, -1)\n",
    "y1 = np.zeros(10)\n",
    "y1[7:] = 1 # last 3 samples are class 1\n",
    "\n",
    "print(\"First dataset:\")\n",
    "print(f\"X shape: {X1.shape}, y: {y1}\")"
   ]
  },
  {
   "cell_type": "code",
   "execution_count": null,
   "id": "7c552e99-b734-466b-bd46-9b3e0fbc8142",
   "metadata": {},
   "outputs": [],
   "source": []
  }
 ],
 "metadata": {
  "kernelspec": {
   "display_name": "Python 3 (ipykernel)",
   "language": "python",
   "name": "python3"
  },
  "language_info": {
   "codemirror_mode": {
    "name": "ipython",
    "version": 3
   },
   "file_extension": ".py",
   "mimetype": "text/x-python",
   "name": "python",
   "nbconvert_exporter": "python",
   "pygments_lexer": "ipython3",
   "version": "3.12.11"
  }
 },
 "nbformat": 4,
 "nbformat_minor": 5
}
